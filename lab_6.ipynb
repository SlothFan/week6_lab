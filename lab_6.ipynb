{
 "cells": [
  {
   "cell_type": "code",
   "execution_count": 4,
   "metadata": {},
   "outputs": [
    {
     "name": "stdin",
     "output_type": "stream",
     "text": [
      "what is your name?\n",
      " Diana\n",
      "what is your age?\n",
      " 17\n"
     ]
    },
    {
     "name": "stdout",
     "output_type": "stream",
     "text": [
      "Hello Diana you will be 27 years old in 10 years.\n"
     ]
    }
   ],
   "source": [
    "prompt1 = \"what is your name?\\n\"\n",
    "name = input(prompt1)\n",
    "prompt2 = \"what is your age?\\n\"\n",
    "age = int(input(prompt2))\n",
    "age10 = age + 10\n",
    "print(\"Hello\",name,\"you will be\",age10,\"years old in 10 years.\")"
   ]
  }
 ],
 "metadata": {
  "kernelspec": {
   "display_name": "Python 3",
   "language": "python",
   "name": "python3"
  },
  "language_info": {
   "codemirror_mode": {
    "name": "ipython",
    "version": 3
   },
   "file_extension": ".py",
   "mimetype": "text/x-python",
   "name": "python",
   "nbconvert_exporter": "python",
   "pygments_lexer": "ipython3",
   "version": "3.8.3"
  }
 },
 "nbformat": 4,
 "nbformat_minor": 4
}
